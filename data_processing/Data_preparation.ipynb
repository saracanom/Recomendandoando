{
 "cells": [
  {
   "cell_type": "code",
   "execution_count": 3,
   "id": "992b795c",
   "metadata": {},
   "outputs": [
    {
     "name": "stdout",
     "output_type": "stream",
     "text": [
      "Starting Spark application\n"
     ]
    },
    {
     "data": {
      "text/html": [
       "<table>\n",
       "<tr><th>ID</th><th>YARN Application ID</th><th>Kind</th><th>State</th><th>Spark UI</th><th>Driver log</th><th>User</th><th>Current session?</th></tr><tr><td>1</td><td>application_1747064939379_0002</td><td>pyspark</td><td>idle</td><td><a target=\"_blank\" href=\"http://ip-172-31-42-216.us-east-2.compute.internal:20888/proxy/application_1747064939379_0002/\">Link</a></td><td><a target=\"_blank\" href=\"http://ip-172-31-35-193.us-east-2.compute.internal:8042/node/containerlogs/container_1747064939379_0002_01_000001/livy\">Link</a></td><td>None</td><td>✔</td></tr></table>"
      ],
      "text/plain": [
       "<IPython.core.display.HTML object>"
      ]
     },
     "metadata": {},
     "output_type": "display_data"
    },
    {
     "data": {
      "application/vnd.jupyter.widget-view+json": {
       "model_id": "",
       "version_major": 2,
       "version_minor": 0
      },
      "text/plain": [
       "FloatProgress(value=0.0, bar_style='info', description='Progress:', layout=Layout(height='25px', width='50%'),…"
      ]
     },
     "metadata": {},
     "output_type": "display_data"
    },
    {
     "name": "stdout",
     "output_type": "stream",
     "text": [
      "SparkSession available as 'spark'.\n"
     ]
    },
    {
     "data": {
      "text/html": [
       "Current session configs: <tt>{'conf': {'spark.pyspark.python': 'python3', 'spark.pyspark.virtualenv.enabled': 'true', 'spark.pyspark.virtualenv.type': 'native', 'spark.pyspark.virtualenv.bin.path': '/usr/bin/virtualenv'}, 'proxyUser': 'jovyan', 'kind': 'pyspark'}</tt><br>"
      ],
      "text/plain": [
       "<IPython.core.display.HTML object>"
      ]
     },
     "metadata": {},
     "output_type": "display_data"
    },
    {
     "data": {
      "text/html": [
       "<table>\n",
       "<tr><th>ID</th><th>YARN Application ID</th><th>Kind</th><th>State</th><th>Spark UI</th><th>Driver log</th><th>User</th><th>Current session?</th></tr><tr><td>1</td><td>application_1747064939379_0002</td><td>pyspark</td><td>idle</td><td><a target=\"_blank\" href=\"http://ip-172-31-42-216.us-east-2.compute.internal:20888/proxy/application_1747064939379_0002/\">Link</a></td><td><a target=\"_blank\" href=\"http://ip-172-31-35-193.us-east-2.compute.internal:8042/node/containerlogs/container_1747064939379_0002_01_000001/livy\">Link</a></td><td>None</td><td>✔</td></tr></table>"
      ],
      "text/plain": [
       "<IPython.core.display.HTML object>"
      ]
     },
     "metadata": {},
     "output_type": "display_data"
    }
   ],
   "source": [
    "%%configure -f\n",
    "{ \"conf\":{\n",
    "          \"spark.pyspark.python\": \"python3\",\n",
    "          \"spark.pyspark.virtualenv.enabled\": \"true\",\n",
    "          \"spark.pyspark.virtualenv.type\":\"native\",\n",
    "          \"spark.pyspark.virtualenv.bin.path\":\"/usr/bin/virtualenv\"\n",
    "         }\n",
    "}"
   ]
  },
  {
   "cell_type": "code",
   "execution_count": 4,
   "id": "e8750d34",
   "metadata": {},
   "outputs": [
    {
     "data": {
      "application/vnd.jupyter.widget-view+json": {
       "model_id": "",
       "version_major": 2,
       "version_minor": 0
      },
      "text/plain": [
       "FloatProgress(value=0.0, bar_style='info', description='Progress:', layout=Layout(height='25px', width='50%'),…"
      ]
     },
     "metadata": {},
     "output_type": "display_data"
    },
    {
     "name": "stdout",
     "output_type": "stream",
     "text": [
      "Collecting pandas\n",
      "  Downloading pandas-2.2.3-cp39-cp39-manylinux_2_17_x86_64.manylinux2014_x86_64.whl (13.1 MB)\n",
      "Collecting python-dateutil>=2.8.2\n",
      "  Downloading python_dateutil-2.9.0.post0-py2.py3-none-any.whl (229 kB)\n",
      "Collecting numpy>=1.22.4\n",
      "  Downloading numpy-2.0.2-cp39-cp39-manylinux_2_17_x86_64.manylinux2014_x86_64.whl (19.5 MB)\n",
      "Collecting tzdata>=2022.7\n",
      "  Downloading tzdata-2025.2-py2.py3-none-any.whl (347 kB)\n",
      "Requirement already satisfied: pytz>=2020.1 in /usr/local/lib/python3.9/site-packages (from pandas) (2025.1)\n",
      "Requirement already satisfied: six>=1.5 in /usr/local/lib/python3.9/site-packages (from python-dateutil>=2.8.2->pandas) (1.13.0)\n",
      "Installing collected packages: tzdata, python-dateutil, numpy, pandas\n",
      "  Attempting uninstall: python-dateutil\n",
      "    Found existing installation: python-dateutil 2.8.1\n",
      "    Not uninstalling python-dateutil at /usr/lib/python3.9/site-packages, outside environment /mnt1/yarn/usercache/livy/appcache/application_1747064939379_0002/container_1747064939379_0002_01_000001/tmp/spark-428f6e0e-7421-4b44-9516-c3efd3e55bb4\n",
      "    Can't uninstall 'python-dateutil'. No files were found to uninstall.\n",
      "Successfully installed numpy-2.0.2 pandas-2.2.3 python-dateutil-2.9.0.post0 tzdata-2025.2\n",
      "\n",
      "Requirement already satisfied: numpy in ./tmp/spark-428f6e0e-7421-4b44-9516-c3efd3e55bb4/lib64/python3.9/site-packages (2.0.2)\n",
      "\n",
      "Collecting matplotlib\n",
      "  Downloading matplotlib-3.9.4-cp39-cp39-manylinux_2_17_x86_64.manylinux2014_x86_64.whl (8.3 MB)\n",
      "Collecting fonttools>=4.22.0\n",
      "  Downloading fonttools-4.58.0-cp39-cp39-manylinux_2_17_x86_64.manylinux2014_x86_64.whl (4.7 MB)\n",
      "Collecting contourpy>=1.0.1\n",
      "  Downloading contourpy-1.3.0-cp39-cp39-manylinux_2_17_x86_64.manylinux2014_x86_64.whl (321 kB)\n",
      "Collecting pillow>=8\n",
      "  Downloading pillow-11.2.1-cp39-cp39-manylinux_2_28_x86_64.whl (4.6 MB)\n",
      "Collecting importlib-resources>=3.2.0\n",
      "  Downloading importlib_resources-6.5.2-py3-none-any.whl (37 kB)\n",
      "Requirement already satisfied: numpy>=1.23 in ./tmp/spark-428f6e0e-7421-4b44-9516-c3efd3e55bb4/lib64/python3.9/site-packages (from matplotlib) (2.0.2)\n",
      "Requirement already satisfied: packaging>=20.0 in /usr/lib/python3.9/site-packages (from matplotlib) (21.3)\n",
      "Collecting cycler>=0.10\n",
      "  Downloading cycler-0.12.1-py3-none-any.whl (8.3 kB)\n",
      "Collecting kiwisolver>=1.3.1\n",
      "  Downloading kiwisolver-1.4.7-cp39-cp39-manylinux_2_12_x86_64.manylinux2010_x86_64.whl (1.6 MB)\n",
      "Requirement already satisfied: pyparsing>=2.3.1 in /usr/lib/python3.9/site-packages (from matplotlib) (2.4.7)\n",
      "Requirement already satisfied: python-dateutil>=2.7 in ./tmp/spark-428f6e0e-7421-4b44-9516-c3efd3e55bb4/lib/python3.9/site-packages (from matplotlib) (2.9.0.post0)\n",
      "Collecting zipp>=3.1.0\n",
      "  Downloading zipp-3.21.0-py3-none-any.whl (9.6 kB)\n",
      "Requirement already satisfied: six>=1.5 in /usr/local/lib/python3.9/site-packages (from python-dateutil>=2.7->matplotlib) (1.13.0)\n",
      "Installing collected packages: zipp, pillow, kiwisolver, importlib-resources, fonttools, cycler, contourpy, matplotlib\n",
      "Successfully installed contourpy-1.3.0 cycler-0.12.1 fonttools-4.58.0 importlib-resources-6.5.2 kiwisolver-1.4.7 matplotlib-3.9.4 pillow-11.2.1 zipp-3.21.0\n",
      "\n",
      "Collecting boto3\n",
      "  Downloading boto3-1.38.13-py3-none-any.whl (139 kB)\n",
      "Collecting botocore<1.39.0,>=1.38.13\n",
      "  Downloading botocore-1.38.13-py3-none-any.whl (13.5 MB)\n",
      "Requirement already satisfied: jmespath<2.0.0,>=0.7.1 in /usr/local/lib/python3.9/site-packages (from boto3) (1.0.1)\n",
      "Collecting s3transfer<0.13.0,>=0.12.0\n",
      "  Downloading s3transfer-0.12.0-py3-none-any.whl (84 kB)\n",
      "Requirement already satisfied: urllib3<1.27,>=1.25.4 in /usr/lib/python3.9/site-packages (from botocore<1.39.0,>=1.38.13->boto3) (1.25.10)\n",
      "Requirement already satisfied: python-dateutil<3.0.0,>=2.1 in ./tmp/spark-428f6e0e-7421-4b44-9516-c3efd3e55bb4/lib/python3.9/site-packages (from botocore<1.39.0,>=1.38.13->boto3) (2.9.0.post0)\n",
      "Requirement already satisfied: six>=1.5 in /usr/local/lib/python3.9/site-packages (from python-dateutil<3.0.0,>=2.1->botocore<1.39.0,>=1.38.13->boto3) (1.13.0)\n",
      "Installing collected packages: botocore, s3transfer, boto3\n",
      "Successfully installed boto3-1.38.13 botocore-1.38.13 s3transfer-0.12.0\n",
      "\n",
      "WARNING: The directory '/home/.cache/pip' or its parent directory is not owned or is not writable by the current user. The cache has been disabled. Check the permissions and owner of that directory. If executing pip with sudo, you should use sudo's -H flag.\n",
      "ERROR: pip's dependency resolver does not currently take into account all the packages that are installed. This behaviour is the source of the following dependency conflicts.\n",
      "awscli 2.23.11 requires python-dateutil<=2.9.0,>=2.1, but you have python-dateutil 2.9.0.post0 which is incompatible.\n",
      "\n",
      "WARNING: The directory '/home/.cache/pip' or its parent directory is not owned or is not writable by the current user. The cache has been disabled. Check the permissions and owner of that directory. If executing pip with sudo, you should use sudo's -H flag.\n",
      "\n",
      "WARNING: The directory '/home/.cache/pip' or its parent directory is not owned or is not writable by the current user. The cache has been disabled. Check the permissions and owner of that directory. If executing pip with sudo, you should use sudo's -H flag.\n",
      "\n",
      "WARNING: The directory '/home/.cache/pip' or its parent directory is not owned or is not writable by the current user. The cache has been disabled. Check the permissions and owner of that directory. If executing pip with sudo, you should use sudo's -H flag."
     ]
    }
   ],
   "source": [
    "sc.install_pypi_package(\"pandas\")\n",
    "sc.install_pypi_package(\"numpy\")\n",
    "sc.install_pypi_package(\"matplotlib\")\n",
    "sc.install_pypi_package(\"boto3\")"
   ]
  },
  {
   "cell_type": "code",
   "execution_count": 5,
   "id": "f34ec9ee",
   "metadata": {},
   "outputs": [
    {
     "data": {
      "application/vnd.jupyter.widget-view+json": {
       "model_id": "",
       "version_major": 2,
       "version_minor": 0
      },
      "text/plain": [
       "FloatProgress(value=0.0, bar_style='info', description='Progress:', layout=Layout(height='25px', width='50%'),…"
      ]
     },
     "metadata": {},
     "output_type": "display_data"
    }
   ],
   "source": [
    "import pandas as pd\n",
    "import pyspark\n",
    "from pyspark.sql import *\n",
    "from pyspark.sql.types import *\n",
    "from pyspark.sql.functions import *\n",
    "from pyspark import SparkContext, SparkConf\n",
    "from pyspark.sql.functions import count\n",
    "import matplotlib.pyplot as plt\n"
   ]
  },
  {
   "cell_type": "code",
   "execution_count": 6,
   "id": "bb09e168",
   "metadata": {},
   "outputs": [
    {
     "data": {
      "application/vnd.jupyter.widget-view+json": {
       "model_id": "",
       "version_major": 2,
       "version_minor": 0
      },
      "text/plain": [
       "FloatProgress(value=0.0, bar_style='info', description='Progress:', layout=Layout(height='25px', width='50%'),…"
      ]
     },
     "metadata": {},
     "output_type": "display_data"
    }
   ],
   "source": [
    "spark = SparkSession.builder.appName(\"Data_prep\").getOrCreate()"
   ]
  },
  {
   "cell_type": "code",
   "execution_count": 7,
   "id": "c4d12bed",
   "metadata": {},
   "outputs": [
    {
     "data": {
      "application/vnd.jupyter.widget-view+json": {
       "model_id": "",
       "version_major": 2,
       "version_minor": 0
      },
      "text/plain": [
       "FloatProgress(value=0.0, bar_style='info', description='Progress:', layout=Layout(height='25px', width='50%'),…"
      ]
     },
     "metadata": {},
     "output_type": "display_data"
    },
    {
     "name": "stdout",
     "output_type": "stream",
     "text": [
      "+------+-------+------+---------+\n",
      "|userId|movieId|rating|timestamp|\n",
      "+------+-------+------+---------+\n",
      "|     1|     17|   4.0|944249077|\n",
      "|     1|     25|   1.0|944250228|\n",
      "|     1|     29|   2.0|943230976|\n",
      "|     1|     30|   5.0|944249077|\n",
      "|     1|     32|   5.0|943228858|\n",
      "+------+-------+------+---------+\n",
      "only showing top 5 rows\n",
      "\n",
      "+-------+--------------------+--------------------+\n",
      "|movieId|               title|              genres|\n",
      "+-------+--------------------+--------------------+\n",
      "|      1|    Toy Story (1995)|Adventure|Animati...|\n",
      "|      2|      Jumanji (1995)|Adventure|Childre...|\n",
      "|      3|Grumpier Old Men ...|      Comedy|Romance|\n",
      "|      4|Waiting to Exhale...|Comedy|Drama|Romance|\n",
      "|      5|Father of the Bri...|              Comedy|\n",
      "+-------+--------------------+--------------------+\n",
      "only showing top 5 rows"
     ]
    }
   ],
   "source": [
    "# Load ratings\n",
    "movies = spark.read.csv(\"s3://recomendandoando/movies.csv\", header=True, inferSchema=True)\n",
    "ratings= spark.read.csv(\"s3://recomendandoando/ratings.csv\", header=True, inferSchema=True)\n",
    "\n",
    "ratings.show(5)\n",
    "movies.show(5)"
   ]
  },
  {
   "cell_type": "code",
   "execution_count": 8,
   "id": "becaf634",
   "metadata": {},
   "outputs": [
    {
     "data": {
      "application/vnd.jupyter.widget-view+json": {
       "model_id": "",
       "version_major": 2,
       "version_minor": 0
      },
      "text/plain": [
       "FloatProgress(value=0.0, bar_style='info', description='Progress:', layout=Layout(height='25px', width='50%'),…"
      ]
     },
     "metadata": {},
     "output_type": "display_data"
    },
    {
     "name": "stdout",
     "output_type": "stream",
     "text": [
      "root\n",
      " |-- userId: integer (nullable = true)\n",
      " |-- movieId: integer (nullable = true)\n",
      " |-- rating: double (nullable = true)\n",
      " |-- timestamp: integer (nullable = true)\n",
      "\n",
      "+-------+------------------+------------------+------------------+--------------------+\n",
      "|summary|            userId|           movieId|            rating|           timestamp|\n",
      "+-------+------------------+------------------+------------------+--------------------+\n",
      "|  count|          32000204|          32000204|          32000204|            32000204|\n",
      "|   mean|100278.50641102163|29318.610121829224|3.5403956487277393|1.2752411995732634E9|\n",
      "| stddev|57949.046233252906| 50958.16087967011| 1.058986213945308|2.5616297595059687E8|\n",
      "|    min|                 1|                 1|               0.5|           789652004|\n",
      "|    max|            200948|            292757|               5.0|          1697164147|\n",
      "+-------+------------------+------------------+------------------+--------------------+"
     ]
    }
   ],
   "source": [
    "ratings.printSchema()\n",
    "ratings.describe().show()"
   ]
  },
  {
   "cell_type": "code",
   "execution_count": 9,
   "id": "c9ed26a0",
   "metadata": {},
   "outputs": [
    {
     "data": {
      "application/vnd.jupyter.widget-view+json": {
       "model_id": "",
       "version_major": 2,
       "version_minor": 0
      },
      "text/plain": [
       "FloatProgress(value=0.0, bar_style='info', description='Progress:', layout=Layout(height='25px', width='50%'),…"
      ]
     },
     "metadata": {},
     "output_type": "display_data"
    },
    {
     "name": "stdout",
     "output_type": "stream",
     "text": [
      "movies.csv dimensions: (87585, 3)\n",
      "ratings.csv dimensions: (32000204, 4)"
     ]
    }
   ],
   "source": [
    "num_rows = movies.count()\n",
    "num_cols = len(movies.columns)\n",
    "print(f'movies.csv dimensions: {(num_rows, num_cols)}')\n",
    "num_rows_rat = ratings.count()\n",
    "num_cols_rat = len(ratings.columns)\n",
    "print(f'ratings.csv dimensions: {(num_rows_rat, num_cols_rat)}')"
   ]
  },
  {
   "cell_type": "code",
   "execution_count": 10,
   "id": "6e1fe529",
   "metadata": {},
   "outputs": [
    {
     "data": {
      "application/vnd.jupyter.widget-view+json": {
       "model_id": "",
       "version_major": 2,
       "version_minor": 0
      },
      "text/plain": [
       "FloatProgress(value=0.0, bar_style='info', description='Progress:', layout=Layout(height='25px', width='50%'),…"
      ]
     },
     "metadata": {},
     "output_type": "display_data"
    },
    {
     "name": "stdout",
     "output_type": "stream",
     "text": [
      "+--------------------+-----+\n",
      "|               title|count|\n",
      "+--------------------+-----+\n",
      "|      Dashcam (2021)|    2|\n",
      "|         Eros (2004)|    2|\n",
      "|Let There Be Ligh...|    2|\n",
      "|         Hide (2011)|    2|\n",
      "|     Paradise (2013)|    2|\n",
      "|  The Promise (2016)|    2|\n",
      "|       Junior (2011)|    2|\n",
      "|Marvel Super Hero...|    2|\n",
      "|      The Box (2003)|    2|\n",
      "|          Ava (2017)|    2|\n",
      "|         Ride (2018)|    2|\n",
      "|        Beast (2022)|    2|\n",
      "|The Connection (2...|    2|\n",
      "|     Deranged (2012)|    2|\n",
      "|       Office (2015)|    2|\n",
      "|The Lonely Island...|    2|\n",
      "|The Harbinger (2022)|    2|\n",
      "|   The Plague (2006)|    3|\n",
      "|Beauty and the Be...|    2|\n",
      "|   Summerland (2020)|    2|\n",
      "+--------------------+-----+\n",
      "only showing top 20 rows\n",
      "\n",
      "+-------+--------------------+\n",
      "|movieId|               title|\n",
      "+-------+--------------------+\n",
      "|    588|      Aladdin (1992)|\n",
      "|   1788|Men with Guns (1997)|\n",
      "|   2644|      Dracula (1931)|\n",
      "|   2851|     Saturn 3 (1980)|\n",
      "|   3553|       Gossip (2000)|\n",
      "|   3598|       Hamlet (2000)|\n",
      "|   5264|Clockstoppers (2002)|\n",
      "|   5328|         Rain (2001)|\n",
      "|   6003|Confessions of a ...|\n",
      "|   6776|Lagaan: Once Upon...|\n",
      "|   8518|Anna Christie (1930)|\n",
      "|  26982|Men with Guns (1997)|\n",
      "|  32029|      Hostage (2005)|\n",
      "|  32600|         Eros (2004)|\n",
      "|  33154|Enron: The Smarte...|\n",
      "|  34048|War of the Worlds...|\n",
      "|  42015|     Casanova (2005)|\n",
      "|  46865|   Little Man (2006)|\n",
      "|  47254|        Chaos (2005)|\n",
      "|  60514|Journey to the Ce...|\n",
      "+-------+--------------------+\n",
      "only showing top 20 rows"
     ]
    }
   ],
   "source": [
    "# Delete duplicated movies\n",
    "# Group by movie title and count occurrences\n",
    "duplicate_movies = movies.groupBy(\"title\").agg(count(\"*\").alias(\"count\"))\n",
    "\n",
    "# Filter for movies with a count greater than 1 (duplicates)\n",
    "duplicate_movies = duplicate_movies.filter(\"count > 1\")\n",
    "\n",
    "# Show the duplicate movies\n",
    "duplicate_movies.show()\n",
    "duplicate_movies_num = duplicate_movies.count()\n",
    "duplicate_titles = (\n",
    "    movies.groupBy(\"title\")\n",
    "    .agg(count(\"*\").alias(\"count\"))\n",
    "    .filter(\"count > 1\")\n",
    ")\n",
    "# Step 2: Join to get the movieIds of duplicated titles\n",
    "duplicate_movie_ids = movies.join(duplicate_titles, on=\"title\", how=\"inner\") \\\n",
    "                            .select(\"movieId\", \"title\")\n",
    "duplicate_movie_ids.show()\n",
    "# Step 3: Remove duplicates from ratings\n",
    "ratings_filtered = ratings.join(duplicate_movie_ids, on=\"movieId\", how=\"left_anti\")\n",
    "# Step 4: Remove all movies whose title appeared more than once\n",
    "movies_filtered = movies.join(\n",
    "    duplicate_movie_ids.select(\"movieId\"),  # the IDs of all duplicated titles\n",
    "    on=\"movieId\",\n",
    "    how=\"left_anti\"                         # keep only those not in duplicate_movie_ids\n",
    ")"
   ]
  },
  {
   "cell_type": "code",
   "execution_count": 11,
   "id": "47a79707",
   "metadata": {},
   "outputs": [
    {
     "data": {
      "application/vnd.jupyter.widget-view+json": {
       "model_id": "",
       "version_major": 2,
       "version_minor": 0
      },
      "text/plain": [
       "FloatProgress(value=0.0, bar_style='info', description='Progress:', layout=Layout(height='25px', width='50%'),…"
      ]
     },
     "metadata": {},
     "output_type": "display_data"
    },
    {
     "name": "stdout",
     "output_type": "stream",
     "text": [
      "Cleaned ratings.csv dimensions: (31901794, 4)"
     ]
    }
   ],
   "source": [
    "num_rows = ratings_filtered.count()\n",
    "num_cols = len(ratings_filtered.columns)\n",
    "print(f\"Cleaned ratings.csv dimensions: {(num_rows, num_cols)}\")"
   ]
  },
  {
   "cell_type": "code",
   "execution_count": 12,
   "id": "d74089bb",
   "metadata": {},
   "outputs": [
    {
     "data": {
      "application/vnd.jupyter.widget-view+json": {
       "model_id": "",
       "version_major": 2,
       "version_minor": 0
      },
      "text/plain": [
       "FloatProgress(value=0.0, bar_style='info', description='Progress:', layout=Layout(height='25px', width='50%'),…"
      ]
     },
     "metadata": {},
     "output_type": "display_data"
    },
    {
     "name": "stdout",
     "output_type": "stream",
     "text": [
      "+------+-------+-----+\n",
      "|userId|movieId|count|\n",
      "+------+-------+-----+\n",
      "+------+-------+-----+"
     ]
    }
   ],
   "source": [
    "duplicate_counts = ratings_filtered.groupBy(\"userId\", \"movieId\") \\\n",
    "                         .count() \\\n",
    "                         .filter(\"count > 1\")\n",
    "\n",
    "# Show duplicates (if any)\n",
    "duplicate_counts.show()"
   ]
  },
  {
   "cell_type": "code",
   "execution_count": 13,
   "id": "507a5416",
   "metadata": {},
   "outputs": [
    {
     "data": {
      "application/vnd.jupyter.widget-view+json": {
       "model_id": "",
       "version_major": 2,
       "version_minor": 0
      },
      "text/plain": [
       "FloatProgress(value=0.0, bar_style='info', description='Progress:', layout=Layout(height='25px', width='50%'),…"
      ]
     },
     "metadata": {},
     "output_type": "display_data"
    },
    {
     "name": "stdout",
     "output_type": "stream",
     "text": [
      "+-------+------+------+---------+\n",
      "|movieId|userId|rating|timestamp|\n",
      "+-------+------+------+---------+\n",
      "+-------+------+------+---------+"
     ]
    }
   ],
   "source": [
    "ratings_filtered.filter((ratings_filtered.rating < 0.5) | (ratings_filtered.rating > 5)).show()"
   ]
  },
  {
   "cell_type": "markdown",
   "id": "de9ae1d9",
   "metadata": {},
   "source": [
    "## Store the processed dataframes"
   ]
  },
  {
   "cell_type": "code",
   "execution_count": 15,
   "id": "d1bdd703",
   "metadata": {},
   "outputs": [
    {
     "data": {
      "application/vnd.jupyter.widget-view+json": {
       "model_id": "",
       "version_major": 2,
       "version_minor": 0
      },
      "text/plain": [
       "FloatProgress(value=0.0, bar_style='info', description='Progress:', layout=Layout(height='25px', width='50%'),…"
      ]
     },
     "metadata": {},
     "output_type": "display_data"
    },
    {
     "name": "stdout",
     "output_type": "stream",
     "text": [
      "Copied processed/ratings_filtered/part-00000-efea96bf-acf8-4725-94b8-ed8216e5dd68-c000.csv ? processed/clean/ratings/ratings_filtered.csv\n",
      "Copied processed/movies_filtered/part-00000-567b01c5-d724-4576-a643-10c5cdf991cc-c000.csv ? processed/clean/movies/movies_filtered.csv"
     ]
    }
   ],
   "source": [
    "# write ratings\n",
    "ratings_filtered.coalesce(1) \\\n",
    "    .write \\\n",
    "    .mode(\"overwrite\") \\\n",
    "    .option(\"header\", \"true\") \\\n",
    "    .csv(\"s3://recomendandoando/processed/ratings_filtered/\")\n",
    "\n",
    "# write movies\n",
    "movies_filtered.coalesce(1) \\\n",
    "    .write \\\n",
    "    .mode(\"overwrite\") \\\n",
    "    .option(\"header\",    \"true\") \\\n",
    "    .option(\"quoteAll\",  \"true\") \\\n",
    "    .option(\"escape\",    \"\\\"\") \\\n",
    "    .csv(\"s3://recomendandoando/processed/movies_filtered/\")\n",
    "\n",
    "\n",
    "# 1) Imports & client\n",
    "import boto3\n",
    "bucket = \"recomendandoando\"\n",
    "s3 = boto3.client(\"s3\")\n",
    "\n",
    "# 2) Helper to copy shard → new folder\n",
    "def copy_shard_to(folder, src_prefix, dest_prefix, dest_filename):\n",
    "    \"\"\"\n",
    "    folder: your S3 bucket name\n",
    "    src_prefix: existing folder with part-*.csv shards (must end with '/')\n",
    "    dest_prefix: NEW folder where you want your single CSV (must end with '/')\n",
    "    dest_filename: the name you want in the new folder (e.g. \"ratings_filtered.csv\")\n",
    "    \"\"\"\n",
    "    # list the shard\n",
    "    resp = s3.list_objects_v2(Bucket=bucket, Prefix=src_prefix)\n",
    "    source_key = next(\n",
    "        (o[\"Key\"] for o in resp.get(\"Contents\", [])\n",
    "         if o[\"Key\"].endswith(\".csv\") and \"part-00000\" in o[\"Key\"]),\n",
    "        None\n",
    "    )\n",
    "    if source_key is None:\n",
    "        raise RuntimeError(f\"No part-00000 shard found under {src_prefix}\")\n",
    "    # define the destination key\n",
    "    dest_key = f\"{dest_prefix}{dest_filename}\"\n",
    "    # copy\n",
    "    s3.copy_object(\n",
    "        Bucket=bucket,\n",
    "        CopySource={\"Bucket\": bucket, \"Key\": source_key},\n",
    "        Key=dest_key\n",
    "    )\n",
    "    print(f\"Copied {source_key} → {dest_key}\")\n",
    "\n",
    "# 3) Use it for ratings and movies, pointing at a new folder:\n",
    "#    Here I choose \"processed/clean/\" as the target folder — you can rename it as you like.\n",
    "\n",
    "copy_shard_to(\n",
    "    bucket,\n",
    "    src_prefix=\"processed/ratings_filtered/\",\n",
    "    dest_prefix=\"processed/clean/ratings/\",\n",
    "    dest_filename=\"ratings_filtered.csv\"\n",
    ")\n",
    "\n",
    "copy_shard_to(\n",
    "    bucket,\n",
    "    src_prefix=\"processed/movies_filtered/\",\n",
    "    dest_prefix=\"processed/clean/movies/\",\n",
    "    dest_filename=\"movies_filtered.csv\"\n",
    ")\n",
    "\n"
   ]
  }
 ],
 "metadata": {
  "kernelspec": {
   "display_name": "PySpark",
   "language": "python",
   "name": "pysparkkernel"
  },
  "language_info": {
   "codemirror_mode": {
    "name": "python",
    "version": 3
   },
   "file_extension": ".py",
   "mimetype": "text/x-python",
   "name": "pyspark",
   "pygments_lexer": "python3"
  }
 },
 "nbformat": 4,
 "nbformat_minor": 5
}
